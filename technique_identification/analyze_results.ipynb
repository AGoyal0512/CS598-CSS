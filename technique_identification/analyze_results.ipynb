{
 "cells": [
  {
   "cell_type": "markdown",
   "metadata": {},
   "source": [
    "## Liar-Evaluation"
   ]
  },
  {
   "cell_type": "code",
   "execution_count": 31,
   "metadata": {},
   "outputs": [],
   "source": [
    "import pandas as pd\n",
    "import ast\n",
    "\n",
    "df = pd.read_csv(\"liar_evaluation.csv\")\n",
    "# replace \",\" with \", \" in the techniques column\n",
    "df[\"Cohere-Command-R-Plus\"] = df[\"Cohere-Command-R-Plus\"].apply(lambda x: x.replace(\", \", \",\"))"
   ]
  },
  {
   "cell_type": "code",
   "execution_count": 33,
   "metadata": {},
   "outputs": [
    {
     "name": "stdout",
     "output_type": "stream",
     "text": [
      "conspiracy: 0.7250268528464017\n",
      "emotion: 0.2620837808807734\n",
      "discredit: 0.715359828141783\n",
      "trolling: 0.0966702470461869\n",
      "impersonation: 0.10204081632653061\n",
      "polarization: 0.06015037593984962\n"
     ]
    }
   ],
   "source": [
    "# calculate the prevalence of each technique\n",
    "techniques_prevalence = {}\n",
    "for techniques in df[\"Cohere-Command-R-Plus\"]:\n",
    "    techniques = techniques.split(\",\")\n",
    "\n",
    "    for technique in techniques:\n",
    "        if technique not in techniques_prevalence:\n",
    "            techniques_prevalence[technique] = 0\n",
    "        techniques_prevalence[technique] += 1\n",
    "\n",
    "for technique, prevalence in techniques_prevalence.items():\n",
    "    print(f\"{technique}: {prevalence / df.shape[0]}\")"
   ]
  },
  {
   "cell_type": "code",
   "execution_count": 37,
   "metadata": {},
   "outputs": [
    {
     "name": "stdout",
     "output_type": "stream",
     "text": [
      "conspiracy,emotion: 0.14500537056928034\n",
      "conspiracy,discredit: 0.518796992481203\n",
      "discredit,trolling: 0.031149301825993556\n",
      "discredit,emotion: 0.045112781954887216\n",
      "conspiracy,trolling: 0.01933404940923738\n",
      "discredit,impersonation: 0.04940923737916219\n",
      "trolling: 0.0010741138560687433\n",
      "emotion,polarization: 0.02040816326530612\n",
      "conspiracy,impersonation: 0.03759398496240601\n",
      "emotion,trolling: 0.0397422126745435\n",
      "discredit,polarization: 0.03866809881847476\n",
      "discredit: 0.0322234156820623\n",
      "impersonation,trolling: 0.0053705692803437165\n",
      "emotion,impersonation: 0.00966702470461869\n",
      "emotion: 0.0021482277121374865\n",
      "conspiracy: 0.00322234156820623\n",
      "conspiracy,polarization: 0.0010741138560687433\n"
     ]
    }
   ],
   "source": [
    "joint_techniques_prevalence = {}\n",
    "for techniques in df[\"Cohere-Command-R-Plus\"]:\n",
    "    # Split techniques into list and sort to handle different orderings\n",
    "    technique_list = techniques.split(\",\")\n",
    "    technique_list.sort()\n",
    "    techniques_key = \",\".join(technique_list)\n",
    "    \n",
    "    if techniques_key not in joint_techniques_prevalence:\n",
    "        joint_techniques_prevalence[techniques_key] = 0\n",
    "    joint_techniques_prevalence[techniques_key] += 1\n",
    "\n",
    "for techniques, prevalence in joint_techniques_prevalence.items():\n",
    "    print(f\"{techniques}: {prevalence / df.shape[0]}\")"
   ]
  },
  {
   "cell_type": "markdown",
   "metadata": {},
   "source": [
    "## CoAid-Evaluation"
   ]
  },
  {
   "cell_type": "code",
   "execution_count": 38,
   "metadata": {},
   "outputs": [],
   "source": [
    "import pandas as pd\n",
    "import ast\n",
    "\n",
    "coaid_df = pd.read_csv(\"coaid_evaluation.csv\")\n",
    "# replace \",\" with \", \" in the techniques column\n",
    "coaid_df[\"Cohere-Command-R-Plus\"] = coaid_df[\"Cohere-Command-R-Plus\"].apply(lambda x: x.replace(\", \", \",\"))"
   ]
  },
  {
   "cell_type": "code",
   "execution_count": 41,
   "metadata": {},
   "outputs": [
    {
     "name": "stdout",
     "output_type": "stream",
     "text": [
      "conspiracy: 0.9448648648648649\n",
      "impersonation: 0.08216216216216216\n",
      "emotion: 0.44\n",
      "discredit: 0.4410810810810811\n",
      "trolling: 0.0745945945945946\n",
      "polarization: 0.006486486486486486\n"
     ]
    }
   ],
   "source": [
    "# calculate the prevalence of each technique\n",
    "techniques_prevalence = {}\n",
    "for techniques in coaid_df[\"Cohere-Command-R-Plus\"]:\n",
    "    techniques = techniques.split(\",\")\n",
    "    # make all techniques lowercase\n",
    "    techniques = [technique.lower() for technique in techniques]\n",
    "\n",
    "    for technique in techniques:\n",
    "        if technique not in techniques_prevalence:\n",
    "            techniques_prevalence[technique] = 0\n",
    "        techniques_prevalence[technique] += 1\n",
    "\n",
    "for technique, prevalence in techniques_prevalence.items():\n",
    "    print(f\"{technique}: {prevalence / coaid_df.shape[0]}\")"
   ]
  },
  {
   "cell_type": "code",
   "execution_count": 42,
   "metadata": {},
   "outputs": [
    {
     "name": "stdout",
     "output_type": "stream",
     "text": [
      "conspiracy,impersonation: 0.06702702702702702\n",
      "conspiracy,emotion: 0.4097297297297297\n",
      "conspiracy,discredit: 0.41945945945945945\n",
      "conspiracy,trolling: 0.046486486486486484\n",
      "emotion: 0.004324324324324324\n",
      "discredit,impersonation: 0.006486486486486486\n",
      "discredit,trolling: 0.004324324324324324\n",
      "emotion,impersonation: 0.004324324324324324\n",
      "emotion,trolling: 0.01945945945945946\n",
      "impersonation,trolling: 0.004324324324324324\n",
      "discredit: 0.004324324324324324\n",
      "emotion,polarization: 0.001081081081081081\n",
      "discredit,polarization: 0.005405405405405406\n",
      "conspiracy: 0.002162162162162162\n",
      "discredit,emotion: 0.001081081081081081\n"
     ]
    }
   ],
   "source": [
    "joint_techniques_prevalence = {}\n",
    "for techniques in coaid_df[\"Cohere-Command-R-Plus\"]:\n",
    "    # Split techniques into list and sort to handle different orderings\n",
    "    technique_list = techniques.split(\",\")\n",
    "    # make all techniques lowercase\n",
    "    technique_list = [technique.lower() for technique in technique_list]\n",
    "    technique_list.sort()\n",
    "    techniques_key = \",\".join(technique_list)\n",
    "    \n",
    "    if techniques_key not in joint_techniques_prevalence:\n",
    "        joint_techniques_prevalence[techniques_key] = 0\n",
    "    joint_techniques_prevalence[techniques_key] += 1\n",
    "\n",
    "for techniques, prevalence in joint_techniques_prevalence.items():\n",
    "    print(f\"{techniques}: {prevalence / coaid_df.shape[0]}\")"
   ]
  },
  {
   "cell_type": "markdown",
   "metadata": {},
   "source": [
    "## Multiple Techniques - Liar"
   ]
  },
  {
   "cell_type": "code",
   "execution_count": 1,
   "metadata": {},
   "outputs": [],
   "source": [
    "import pandas as pd\n",
    "import ast\n",
    "\n",
    "liar_df = pd.read_csv(\"liar_evaluation_multiple.csv\")\n",
    "# replace \",\" with \", \" in the techniques column\n",
    "liar_df[\"Cohere-Command-R-Plus\"] = liar_df[\"Cohere-Command-R-Plus\"].apply(lambda x: str(x).lower())\n",
    "liar_df[\"Cohere-Command-R-Plus\"] = liar_df[\"Cohere-Command-R-Plus\"].apply(lambda x: str(x).replace(\", \", \",\"))\n",
    "liar_df[\"Cohere-Command-R-Plus\"] = liar_df[\"Cohere-Command-R-Plus\"].apply(lambda x: str(x).replace(\".\", \"\"))"
   ]
  },
  {
   "cell_type": "code",
   "execution_count": 4,
   "metadata": {},
   "outputs": [
    {
     "name": "stdout",
     "output_type": "stream",
     "text": [
      "conspiracy: 0.9462943071965628\n",
      "discredit: 0.3845327604726101\n",
      "trolling: 0.04296455424274973\n",
      "emotion: 0.1535982814178303\n",
      "impersonation: 0.02900107411385607\n",
      "nan: 0.0021482277121374865\n",
      "polarization: 0.00322234156820623\n"
     ]
    }
   ],
   "source": [
    "# calculate the prevalence of each technique\n",
    "techniques_prevalence = {}\n",
    "for techniques in liar_df[\"Cohere-Command-R-Plus\"]:\n",
    "    techniques = techniques.split(\",\")\n",
    "\n",
    "    for technique in techniques:\n",
    "        if technique not in techniques_prevalence:\n",
    "            techniques_prevalence[technique] = 0\n",
    "        techniques_prevalence[technique] += 1\n",
    "\n",
    "for technique, prevalence in techniques_prevalence.items():\n",
    "    print(f\"{technique}: {prevalence / liar_df.shape[0]}\")"
   ]
  },
  {
   "cell_type": "code",
   "execution_count": 5,
   "metadata": {},
   "outputs": [
    {
     "name": "stdout",
     "output_type": "stream",
     "text": [
      "conspiracy: 0.44360902255639095\n",
      "conspiracy,discredit: 0.33619763694951665\n",
      "conspiracy,trolling: 0.015037593984962405\n",
      "emotion,trolling: 0.008592910848549946\n",
      "discredit,emotion: 0.0053705692803437165\n",
      "emotion: 0.010741138560687433\n",
      "conspiracy,discredit,emotion: 0.017185821697099892\n",
      "conspiracy,emotion: 0.08807733619763695\n",
      "impersonation: 0.0021482277121374865\n",
      "conspiracy,impersonation: 0.023630504833512353\n",
      "conspiracy,emotion,trolling: 0.018259935553168637\n",
      "discredit: 0.023630504833512353\n",
      "nan: 0.0021482277121374865\n",
      "discredit,emotion,polarization: 0.0010741138560687433\n",
      "conspiracy,emotion,impersonation: 0.0021482277121374865\n",
      "conspiracy,discredit,emotion,impersonation,polarization,trolling: 0.0010741138560687433\n",
      "conspiracy,emotion,polarization: 0.0010741138560687433\n"
     ]
    }
   ],
   "source": [
    "joint_techniques_prevalence = {}\n",
    "for techniques in liar_df[\"Cohere-Command-R-Plus\"]:\n",
    "    # Split techniques into list and sort to handle different orderings\n",
    "    technique_list = techniques.split(\",\")\n",
    "    technique_list.sort()\n",
    "    techniques_key = \",\".join(technique_list)\n",
    "    \n",
    "    if techniques_key not in joint_techniques_prevalence:\n",
    "        joint_techniques_prevalence[techniques_key] = 0\n",
    "    joint_techniques_prevalence[techniques_key] += 1\n",
    "\n",
    "for techniques, prevalence in joint_techniques_prevalence.items():\n",
    "    print(f\"{techniques}: {prevalence / liar_df.shape[0]}\")"
   ]
  },
  {
   "cell_type": "markdown",
   "metadata": {},
   "source": [
    "## Multiple Techniques - CoAid"
   ]
  },
  {
   "cell_type": "code",
   "execution_count": 6,
   "metadata": {},
   "outputs": [],
   "source": [
    "import pandas as pd\n",
    "import ast\n",
    "\n",
    "coaid_df = pd.read_csv(\"coaid_evaluation_multiple.csv\")\n",
    "# replace \",\" with \", \" in the techniques column\n",
    "coaid_df[\"Cohere-Command-R-Plus\"] = coaid_df[\"Cohere-Command-R-Plus\"].apply(lambda x: str(x).lower())\n",
    "coaid_df[\"Cohere-Command-R-Plus\"] = coaid_df[\"Cohere-Command-R-Plus\"].apply(lambda x: str(x).replace(\", \", \",\"))\n",
    "coaid_df[\"Cohere-Command-R-Plus\"] = coaid_df[\"Cohere-Command-R-Plus\"].apply(lambda x: str(x).replace(\".\", \"\"))"
   ]
  },
  {
   "cell_type": "code",
   "execution_count": 8,
   "metadata": {},
   "outputs": [
    {
     "name": "stdout",
     "output_type": "stream",
     "text": [
      "conspiracy: 0.9891891891891892\n",
      "discredit: 0.20972972972972972\n",
      "trolling: 0.022702702702702703\n",
      "emotion: 0.13513513513513514\n",
      "impersonation: 0.03351351351351351\n",
      "none of the above \n",
      "\n",
      "the statement is a question and does not employ any of the listed manipulation techniques it is a neutral inquiry about a potential method of sanitization: 0.001081081081081081\n",
      "and does not aim to divide: 0.001081081081081081\n",
      "provoke: 0.001081081081081081\n",
      "or manipulate emotions: 0.001081081081081081\n",
      "none of the above: 0.001081081081081081\n",
      "nan: 0.001081081081081081\n"
     ]
    }
   ],
   "source": [
    "# calculate the prevalence of each technique\n",
    "techniques_prevalence = {}\n",
    "for techniques in coaid_df[\"Cohere-Command-R-Plus\"]:\n",
    "    techniques = techniques.split(\",\")\n",
    "\n",
    "    for technique in techniques:\n",
    "        if technique not in techniques_prevalence:\n",
    "            techniques_prevalence[technique] = 0\n",
    "        techniques_prevalence[technique] += 1\n",
    "\n",
    "for technique, prevalence in techniques_prevalence.items():\n",
    "    print(f\"{technique}: {prevalence / coaid_df.shape[0]}\")"
   ]
  },
  {
   "cell_type": "code",
   "execution_count": 9,
   "metadata": {},
   "outputs": [
    {
     "name": "stdout",
     "output_type": "stream",
     "text": [
      "conspiracy: 0.6270270270270271\n",
      "conspiracy,discredit: 0.1935135135135135\n",
      "conspiracy,trolling: 0.00972972972972973\n",
      "conspiracy,emotion: 0.10270270270270271\n",
      "conspiracy,impersonation: 0.02702702702702703\n",
      "conspiracy,discredit,emotion: 0.014054054054054054\n",
      "conspiracy,emotion,trolling: 0.010810810810810811\n",
      "impersonation: 0.002162162162162162\n",
      "and does not aim to divide,none of the above \n",
      "\n",
      "the statement is a question and does not employ any of the listed manipulation techniques it is a neutral inquiry about a potential method of sanitization,or manipulate emotions,provoke: 0.001081081081081081\n",
      "conspiracy,emotion,impersonation: 0.004324324324324324\n",
      "emotion: 0.001081081081081081\n",
      "emotion,trolling: 0.001081081081081081\n",
      "trolling: 0.001081081081081081\n",
      "discredit: 0.001081081081081081\n",
      "none of the above: 0.001081081081081081\n",
      "nan: 0.001081081081081081\n",
      "discredit,emotion: 0.001081081081081081\n"
     ]
    }
   ],
   "source": [
    "joint_techniques_prevalence = {}\n",
    "for techniques in coaid_df[\"Cohere-Command-R-Plus\"]:\n",
    "    # Split techniques into list and sort to handle different orderings\n",
    "    technique_list = techniques.split(\",\")\n",
    "    technique_list.sort()\n",
    "    techniques_key = \",\".join(technique_list)\n",
    "    \n",
    "    if techniques_key not in joint_techniques_prevalence:\n",
    "        joint_techniques_prevalence[techniques_key] = 0\n",
    "    joint_techniques_prevalence[techniques_key] += 1\n",
    "\n",
    "for techniques, prevalence in joint_techniques_prevalence.items():\n",
    "    print(f\"{techniques}: {prevalence / coaid_df.shape[0]}\")"
   ]
  },
  {
   "cell_type": "code",
   "execution_count": null,
   "metadata": {},
   "outputs": [],
   "source": []
  }
 ],
 "metadata": {
  "kernelspec": {
   "display_name": "scuba_research",
   "language": "python",
   "name": "python3"
  },
  "language_info": {
   "codemirror_mode": {
    "name": "ipython",
    "version": 3
   },
   "file_extension": ".py",
   "mimetype": "text/x-python",
   "name": "python",
   "nbconvert_exporter": "python",
   "pygments_lexer": "ipython3",
   "version": "3.11.9"
  }
 },
 "nbformat": 4,
 "nbformat_minor": 2
}
